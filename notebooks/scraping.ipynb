{
 "cells": [
  {
   "cell_type": "code",
   "execution_count": null,
   "id": "f699b23a",
   "metadata": {},
   "outputs": [],
   "source": [
    "!where python"
   ]
  },
  {
   "cell_type": "code",
   "execution_count": null,
   "id": "dbf2a2c6",
   "metadata": {},
   "outputs": [],
   "source": [
    "# Vericando ambiente de execução\n",
    "import sys\n",
    "print(sys.executable)"
   ]
  },
  {
   "cell_type": "code",
   "execution_count": null,
   "id": "5da1d56c",
   "metadata": {},
   "outputs": [],
   "source": [
    "print(\"Olá, mundo!\")"
   ]
  },
  {
   "cell_type": "markdown",
   "id": "d0bb077d",
   "metadata": {},
   "source": [
    "### Bibliotecas"
   ]
  },
  {
   "cell_type": "code",
   "execution_count": null,
   "id": "23be8182",
   "metadata": {},
   "outputs": [],
   "source": [
    "# Bibliotecas essenciais para scraping com Selenium\n",
    "import undetected_chromedriver as uc\n",
    "from selenium.webdriver.common.by import By\n",
    "from selenium.webdriver.support.ui import WebDriverWait\n",
    "from selenium.webdriver.support import expected_conditions as EC\n",
    "from time import sleep\n",
    "import random\n",
    "import pandas as pd"
   ]
  },
  {
   "cell_type": "markdown",
   "id": "7e7c67a5",
   "metadata": {},
   "source": [
    "### Listas, tuplas e dicionários"
   ]
  },
  {
   "cell_type": "code",
   "execution_count": null,
   "id": "dee5923a",
   "metadata": {},
   "outputs": [],
   "source": [
    "dicionario = {\n",
    "    \"Nome\": [\"Lucas\", \"Marco\", \"Maria\", \"João\", \"José\"],\n",
    "    \"Idade\": [20, 40, 50, 23, 25],\n",
    "    \"Cidade\": [\n",
    "        \"Cascavel\",\n",
    "        \"Foz do iguaçu\",\n",
    "        \"Curitiba\",\n",
    "        \"São Paulo\",\n",
    "        \"Maringá\"\n",
    "    ]\n",
    "}\n",
    "df = pd.DataFrame(dicionario)\n",
    "df.head()"
   ]
  },
  {
   "cell_type": "code",
   "execution_count": null,
   "id": "a18fa420",
   "metadata": {},
   "outputs": [],
   "source": [
    "dicionario[\"Idade\"][0]"
   ]
  },
  {
   "cell_type": "code",
   "execution_count": null,
   "id": "e49286e8",
   "metadata": {},
   "outputs": [],
   "source": [
    "df.to_excel(\"dados.xlsx\", index=False)"
   ]
  },
  {
   "cell_type": "markdown",
   "id": "6d8b5bd5",
   "metadata": {},
   "source": [
    "### Loop for"
   ]
  },
  {
   "cell_type": "code",
   "execution_count": null,
   "id": "b0c39e85",
   "metadata": {},
   "outputs": [],
   "source": [
    "curso = [\"Ciências Econômicas\", \"Estatística\", \"Computação\"]\n",
    "\n",
    "for i in curso:\n",
    "    print(i)"
   ]
  },
  {
   "cell_type": "code",
   "execution_count": null,
   "id": "0f1a1ace",
   "metadata": {},
   "outputs": [],
   "source": [
    "for i in range(1, 6):\n",
    "    print(f\"Número: {i}\")"
   ]
  },
  {
   "cell_type": "code",
   "execution_count": null,
   "id": "fb5f8402",
   "metadata": {},
   "outputs": [],
   "source": [
    "numeros = [10, 20, 30, 40]\n",
    "soma = 0\n",
    "\n",
    "for n in numeros:\n",
    "    soma += n\n",
    "\n",
    "print(f\"Soma total: {soma}\")"
   ]
  },
  {
   "cell_type": "markdown",
   "id": "dfdd1425",
   "metadata": {},
   "source": [
    "![Exemplo de for loop em Python](../pics/for-loop-python.jpg)"
   ]
  },
  {
   "cell_type": "markdown",
   "id": "9f42e5f3",
   "metadata": {},
   "source": [
    "### Elementos HTML"
   ]
  },
  {
   "cell_type": "code",
   "execution_count": null,
   "id": "fc9d8709",
   "metadata": {},
   "outputs": [],
   "source": [
    "<tag atributo=\"valor\">conteúdo</tag>"
   ]
  },
  {
   "cell_type": "code",
   "execution_count": null,
   "id": "0f10ca99",
   "metadata": {},
   "outputs": [],
   "source": [
    "<p class=\"destaque\">Promoção do dia</p>"
   ]
  },
  {
   "cell_type": "markdown",
   "id": "8550fe67",
   "metadata": {},
   "source": [
    "- find_element(By.ID, 'id')\n",
    "- find_element(By.NAME, 'name')\n",
    "- find_element(By.XPATH, 'xpath')\n",
    "- find_element(By.LINK_TEXT, 'link text')\n",
    "- find_element(By.PARTIAL_LINK_TEXT, 'partial link text')\n",
    "- find_element(By.TAG_NAME, 'tag name')\n",
    "- find_element(By.CLASS_NAME, 'class name')\n",
    "- find_element(By.CSS_SELECTOR, 'css selector')"
   ]
  },
  {
   "cell_type": "markdown",
   "id": "bffda932",
   "metadata": {},
   "source": [
    "- **<'p'>** é a tag HTML (elemento parágrafo)\n",
    "- **class='destaque'** é um atributo da tag\n",
    "- **'destaque'** é o valor do atributo\n",
    "- **Promoção do dia** é o conteúdo visível ao usuário"
   ]
  },
  {
   "cell_type": "markdown",
   "id": "3d9d6bfb",
   "metadata": {},
   "source": [
    "### Selenium"
   ]
  },
  {
   "cell_type": "code",
   "execution_count": null,
   "id": "209401f2",
   "metadata": {},
   "outputs": [],
   "source": [
    "driver = uc.Chrome()\n",
    "driver.set_window_size(1280,800)\n",
    "\n",
    "url = \"https://www.buscape.com.br/search?q=iphone%2B16\"\n",
    "driver.get(url)\n",
    "\n",
    "concordar = WebDriverWait(driver, 5).until(\n",
    "    EC.element_to_be_clickable((By.CSS_SELECTOR, 'button.PrivacyPolicy_Button__1RxwB'))\n",
    ")\n",
    "concordar.click()\n",
    "sleep(1)\n",
    "driver.quit()"
   ]
  },
  {
   "cell_type": "markdown",
   "id": "fd6229e9",
   "metadata": {},
   "source": [
    "### Produto"
   ]
  },
  {
   "cell_type": "markdown",
   "id": "c90a64fe",
   "metadata": {},
   "source": [
    "- **Tag HTML:** <'h2'>\n",
    "- **Tipo do seletor:** CSS SELETOR\n",
    "- **Seletor usado:** h2[data-testid=\"product-card::name\"]"
   ]
  },
  {
   "cell_type": "code",
   "execution_count": null,
   "id": "cfb17732",
   "metadata": {},
   "outputs": [],
   "source": [
    "# Iniciar o navegador\n",
    "driver = uc.Chrome()\n",
    "driver.set_window_size(1280,800)\n",
    "\n",
    "# Acesse a página\n",
    "url = \"https://www.buscape.com.br/search?q=iphone%2B16\"\n",
    "driver.get(url)\n",
    "\n",
    "# Espera os produtos carregarem\n",
    "try:\n",
    "    WebDriverWait(driver, 15).until(\n",
    "        EC.presence_of_all_elements_located((By.CSS_SELECTOR, 'h2[data-testid=\"product-card::name\"]'))\n",
    "    )\n",
    "    print(\"Produtos carregados\")\n",
    "except:\n",
    "    print(\"Produtos não carregados\")\n",
    "    driver.quit()\n",
    "    exit() \n",
    "\n",
    "# Coleta os nomes dos produtos\n",
    "qtde_nomes = driver.find_element(By.CSS_SELECTOR, 'h2[data-testid=\"product-card::name\"]')\n",
    "\n",
    "print(f\"Total de produtos encontrados: {len(qtde_nomes)}\")\n",
    "\n",
    "# Encerra o navegador\n",
    "driver.quit()"
   ]
  },
  {
   "cell_type": "code",
   "execution_count": null,
   "id": "153b3cd3",
   "metadata": {},
   "outputs": [],
   "source": [
    "# Iniciar o navegador\n",
    "driver = uc.Chrome()\n",
    "driver.set_window_size(1280,800)\n",
    "\n",
    "# Acesse a página\n",
    "url = \"https://www.buscape.com.br/search?q=iphone%2B16\"\n",
    "driver.get(url)\n",
    "\n",
    "# Espera os produtos carregarem\n",
    "try:\n",
    "    WebDriverWait(driver, 15).until(\n",
    "        EC.presence_of_all_elements_located((By.CSS_SELECTOR, 'h2[data-testid=\"product-card::name\"]'))\n",
    "    )\n",
    "    print(\"Produtos carregados\")\n",
    "except:\n",
    "    print(\"Produtos não carregados\")\n",
    "    driver.quit()\n",
    "\n",
    "# Coleta os nomes dos produtos\n",
    "nomes = driver.find_elements(By.CSS_SELECTOR, 'h2[data-testid=\"product-card::name\"]')\n",
    "\n",
    "# Iterar e exibir os textos\n",
    "for nome_elemento in nomes:\n",
    "    nome = nome_elemento.get_attribute(\"textContent\").strip()\n",
    "    print(nome)\n",
    "\n",
    "# Encerra o navegador\n",
    "driver.quit()"
   ]
  },
  {
   "cell_type": "code",
   "execution_count": null,
   "id": "fba183ee",
   "metadata": {},
   "outputs": [],
   "source": [
    "driver = uc.Chrome()\n",
    "driver.set_window_size(1920, 1080)\n",
    "\n",
    "url =\"https://www.buscape.com.br/search?q=iphone&utm_source=searchbar&utm_medium=searchbar_web&utm_campaign=popular_searches\"\n",
    "driver.get(url)\n",
    "\n",
    "try:\n",
    "    WebDriverWait(driver, 10).until(\n",
    "        EC.presence_of_all_elements_located((By.CSS_SELECTOR, 'h2[data-testid=\"product-card::name\"]'))\n",
    "    )\n",
    "    print(\"Elementos encontrados com sucesso!\")\n",
    "except:\n",
    "    print(\"Elementos não encontrados.\")\n",
    "    sleep(2)\n",
    "\n",
    "nomes = driver.find_elements(By.CSS_SELECTOR, 'h2[data-testid=\"product-card::name\"]')\n",
    "\n",
    "nomes_lista = []\n",
    "\n",
    "# Preenche a lista de nomes\n",
    "for elemento in nomes:\n",
    "    texto = elemento.get_attribute('textContent').strip()\n",
    "    nomes_lista.append(texto)\n",
    "\n",
    "driver.quit()"
   ]
  },
  {
   "cell_type": "markdown",
   "id": "e9807833",
   "metadata": {},
   "source": [
    "### Preço"
   ]
  },
  {
   "cell_type": "markdown",
   "id": "a65e7cc8",
   "metadata": {},
   "source": [
    "- **Tag HTML:** <'p'>\n",
    "- **Tipo de seletor:** CSS SELETOR\n",
    "- **Seletor usado:** p[data-testid=\"product-card::price\"]"
   ]
  },
  {
   "cell_type": "code",
   "execution_count": null,
   "id": "5bf5cc91",
   "metadata": {},
   "outputs": [],
   "source": [
    "# Inicia o navegador\n",
    "driver = uc.Chrome()\n",
    "driver.set_window_size(1280, 800)\n",
    "\n",
    "# Acessa a página\n",
    "url = \"https://www.buscape.com.br/search?q=iphone%2B16\"\n",
    "driver.get(url)\n",
    "\n",
    "# Aguarda os preços carregarem\n",
    "try:\n",
    "    WebDriverWait(driver, 15).until(\n",
    "        EC.presence_of_all_elements_located((By.CSS_SELECTOR, 'p[data-testid=\"product-card::price\"]'))\n",
    "    )\n",
    "    print(\"Preços carregados com sucesso\")\n",
    "except:\n",
    "    print(\"Não foi possível localizar os preços\")\n",
    "\n",
    "# Coleta dos preços\n",
    "precos = driver.find_elements(By.CSS_SELECTOR, 'p[data-testid=\"product-card::price\"]')\n",
    "\n",
    "print(f\"Total de produtos encontrados: {len(precos)}\")\n",
    "\n",
    "driver.quit()"
   ]
  },
  {
   "cell_type": "code",
   "execution_count": null,
   "id": "cf2059f0",
   "metadata": {},
   "outputs": [],
   "source": [
    "# Inicia o navegador\n",
    "driver = uc.Chrome()\n",
    "driver.set_window_size(1280, 800)\n",
    "\n",
    "# Acessa a página\n",
    "url = \"https://www.buscape.com.br/search?q=iphone%2B16\"\n",
    "driver.get(url)\n",
    "\n",
    "# Aguarda os preços carregarem\n",
    "try:\n",
    "    WebDriverWait(driver, 15).until(\n",
    "        EC.presence_of_all_elements_located((By.CSS_SELECTOR, 'p[data-testid=\"product-card::price\"]'))\n",
    "    )\n",
    "    print(\"Preços carregados com sucesso\")\n",
    "except:\n",
    "    print(\"Não foi possível localizar os preços\")\n",
    "\n",
    "# Coleta dos preços\n",
    "precos = driver.find_elements(By.CSS_SELECTOR, 'p[data-testid=\"product-card::price\"]')\n",
    "\n",
    "# Iterar e exibir os textos\n",
    "for preco_elemento in precos:\n",
    "    preco = preco_elemento.get_attribute(\"textContent\").strip()\n",
    "    print(preco)\n",
    "\n",
    "print(f\"Total de produtos encontrados: {len(precos)}\")\n",
    "\n",
    "driver.quit()"
   ]
  },
  {
   "cell_type": "code",
   "execution_count": null,
   "id": "3511ba44",
   "metadata": {},
   "outputs": [],
   "source": [
    "driver = uc.Chrome()\n",
    "driver.set_window_size(1920, 1080)\n",
    "\n",
    "url =\"https://www.buscape.com.br/search?q=iphone&utm_source=searchbar&utm_medium=searchbar_web&utm_campaign=popular_searches\"\n",
    "driver.get(url)\n",
    "\n",
    "try:\n",
    "    WebDriverWait(driver, 10).until(\n",
    "        EC.presence_of_all_elements_located((By.CSS_SELECTOR, 'p[data-testid=\"product-card::price\"]'))\n",
    "    )\n",
    "    print(\"Elementos encontrados com sucesso!\")\n",
    "except:\n",
    "    print(\"Elementos não encontrados.\")\n",
    "    sleep(2)\n",
    "\n",
    "precos = driver.find_elements(By.CSS_SELECTOR, 'p[data-testid=\"product-card::price\"]')\n",
    "\n",
    "precos_lista = []\n",
    "\n",
    "# Preenche a lista de preços\n",
    "for elemento in precos:\n",
    "    texto = elemento.get_attribute('textContent').strip()\n",
    "    precos_lista.append(texto)\n",
    "\n",
    "driver.quit()"
   ]
  },
  {
   "cell_type": "markdown",
   "id": "440e713d",
   "metadata": {},
   "source": [
    "### Loja"
   ]
  },
  {
   "cell_type": "markdown",
   "id": "0888e06f",
   "metadata": {},
   "source": [
    "- **Tag HTML:** <'h3'>\n",
    "- **Tipo de seletor:** CSS SELETOR\n",
    "- **Seletor usado:** h3.ProductCard_ProductCard_BestMerchant__JQo_V"
   ]
  },
  {
   "cell_type": "code",
   "execution_count": null,
   "id": "8c833871",
   "metadata": {},
   "outputs": [],
   "source": [
    "# Inicia o navegador\n",
    "driver = uc.Chrome()\n",
    "driver.set_window_size(1280, 800)\n",
    "\n",
    "# Acessa a página de busca\n",
    "url = \"https://www.buscape.com.br/search?q=iphone%2B16\"\n",
    "driver.get(url)\n",
    "\n",
    "# Aguarda os nomes das lojas carregarem\n",
    "try:\n",
    "    WebDriverWait(driver, 15).until(\n",
    "        EC.presence_of_all_elements_located((By.CSS_SELECTOR, 'h3.ProductCard_ProductCard_BestMerchant__JQo_V'))\n",
    "    )\n",
    "    print(\"Nome das lojas carregadas com sucesso!\")\n",
    "except:\n",
    "    print(\"Não foi possível localizar os nomes das lojas.\")\n",
    "    driver.quit()\n",
    "\n",
    "# Coleta dos dados\n",
    "lojas = driver.find_elements(By.CSS_SELECTOR, 'h3.ProductCard_ProductCard_BestMerchant__JQo_V')\n",
    "\n",
    "print(f\"Total de produtos encontrados: {len(lojas)}\")"
   ]
  },
  {
   "cell_type": "code",
   "execution_count": null,
   "id": "8e417061",
   "metadata": {},
   "outputs": [],
   "source": [
    "# Inicia o navegador\n",
    "driver = uc.Chrome()\n",
    "driver.set_window_size(1280, 800)\n",
    "\n",
    "# Acessa a página de busca\n",
    "url = \"https://www.buscape.com.br/search?q=iphone%2B16\"\n",
    "driver.get(url)\n",
    "\n",
    "# Aguarda os nomes das lojas carregarem\n",
    "try:\n",
    "    WebDriverWait(driver, 15).until(\n",
    "        EC.presence_of_all_elements_located((By.CSS_SELECTOR, 'h3.ProductCard_ProductCard_BestMerchant__JQo_V'))\n",
    "    )\n",
    "    print(\"Nome das lojas carregadas com sucesso!\")\n",
    "except:\n",
    "    print(\"Não foi possível localizar os nomes das lojas.\")\n",
    "    driver.quit()\n",
    "\n",
    "# Coleta dos dados\n",
    "lojas = driver.find_elements(By.CSS_SELECTOR, 'h3.ProductCard_ProductCard_BestMerchant__JQo_V')\n",
    "\n",
    "for loja_elemento in lojas:\n",
    "    loja = loja_elemento.get_attribute(\"textContent\").strip()\n",
    "    print(loja)\n",
    "\n",
    "print(f\"Total de produtos encontrados: {len(lojas)}\")"
   ]
  },
  {
   "cell_type": "code",
   "execution_count": null,
   "id": "67bdacf1",
   "metadata": {},
   "outputs": [],
   "source": [
    "driver = uc.Chrome()\n",
    "driver.set_window_size(1920, 1080)\n",
    "\n",
    "url = \"https://www.buscape.com.br/search?q=iphone&utm_source=searchbar&utm_medium=searchbar_web&utm_campaign=popular_searches\"\n",
    "driver.get(url)\n",
    "\n",
    "try:\n",
    "    WebDriverWait(driver, 10).until(\n",
    "        EC.presence_of_all_elements_located((By.CSS_SELECTOR, 'h3.ProductCard_ProductCard_BestMerchant__JQo_V'))\n",
    "    )\n",
    "    print(\"Elementos encontrados com sucesso!\")\n",
    "except:\n",
    "    print(\"Elementos não encontrados.\")\n",
    "    sleep(2)\n",
    "\n",
    "nomes = driver.find_elements(By.CSS_SELECTOR, 'h3.ProductCard_ProductCard_BestMerchant__JQo_V')\n",
    "\n",
    "lojas_listas = []\n",
    "\n",
    "# Preenche a lista de nomes\n",
    "for elemento in nomes:\n",
    "    texto = elemento.get_attribute('textContent').strip()\n",
    "    lojas_listas.append(texto)\n",
    "\n",
    "driver.quit()"
   ]
  },
  {
   "cell_type": "markdown",
   "id": "5063d78f",
   "metadata": {},
   "source": [
    "### Criando um dataframe com Pandas"
   ]
  },
  {
   "cell_type": "code",
   "execution_count": null,
   "id": "bb35d52d",
   "metadata": {},
   "outputs": [],
   "source": [
    "# Cria o DataFrame diretamente\n",
    "df = pd.DataFrame({\n",
    "    'Produto': nomes_lista,\n",
    "    'Preço': precos_lista,\n",
    "    'Loja': lojas_listas\n",
    "})\n",
    "\n",
    "df.head()"
   ]
  },
  {
   "cell_type": "code",
   "execution_count": null,
   "id": "f72ffa38",
   "metadata": {},
   "outputs": [],
   "source": [
    "df.to_excel('iphones.xlsx', index=False)"
   ]
  },
  {
   "cell_type": "markdown",
   "id": "14b8ccdd",
   "metadata": {},
   "source": [
    "### Script completo"
   ]
  },
  {
   "cell_type": "code",
   "execution_count": null,
   "id": "8351f00e",
   "metadata": {},
   "outputs": [],
   "source": [
    "# Inicia o navegador com tamanho customizado\n",
    "driver = uc.Chrome()\n",
    "driver.set_window_size(1280, 800)\n",
    "\n",
    "# Configurações da raspagem\n",
    "base_url = \"https://www.buscape.com.br/search?q=iphone%2B16&hitsPerPage=48&prx=true&page={page}&sortBy=default\"\n",
    "num_pages = 2\n",
    "total_itens = 0\n",
    "falhas = []\n",
    "dados = []  # Lista para armazenar os dados\n",
    "\n",
    "print(f\"🔍 Iniciando raspagem com {num_pages} páginas...\")\n",
    "\n",
    "for page in range(1, num_pages + 1):\n",
    "    url = base_url.format(page=page)\n",
    "    driver.get(url)\n",
    "    print(f\"\\n➡️ Acessando página {page}: {url}\")\n",
    "\n",
    "    # Fecha modal\n",
    "    try:\n",
    "        WebDriverWait(driver, 10).until(\n",
    "            EC.presence_of_element_located((By.CSS_SELECTOR, 'img[data-testid=\"modal-image\"]'))\n",
    "        )\n",
    "        close_button = WebDriverWait(driver, 10).until(\n",
    "            EC.element_to_be_clickable((By.XPATH, '//*[@id=\"__next\"]/main/div[3]/div/span/button'))\n",
    "        )\n",
    "        try:\n",
    "            close_button.click()\n",
    "        except:\n",
    "            driver.execute_script(\"arguments[0].click();\", close_button)\n",
    "        sleep(1)\n",
    "    except:\n",
    "        pass\n",
    "\n",
    "    # Aceita cookies\n",
    "    try:\n",
    "        concordar = WebDriverWait(driver, 5).until(\n",
    "            EC.element_to_be_clickable((By.XPATH, '//button[span[text()=\"Concordar\"]]'))\n",
    "        )\n",
    "        concordar.click()\n",
    "        sleep(1)\n",
    "    except:\n",
    "        pass\n",
    "\n",
    "    # Espera os cards carregarem\n",
    "    try:\n",
    "        WebDriverWait(driver, 15).until(\n",
    "            EC.presence_of_all_elements_located((By.CSS_SELECTOR, 'div[data-testid=\"product-card\"]'))\n",
    "        )\n",
    "    except:\n",
    "        print(\"⚠️ Erro ao carregar os produtos. Pulando página.\")\n",
    "        falhas.append((page, 0, \"Falha ao carregar cards\"))\n",
    "        continue\n",
    "\n",
    "    cards = driver.find_elements(By.CSS_SELECTOR, 'div[data-testid=\"product-card\"] a')\n",
    "    print(f\"📦 {len(cards)} produtos encontrados na página {page}\")\n",
    "\n",
    "    for i, card in enumerate(cards, 1):\n",
    "        try:\n",
    "            nome = card.find_element(By.CSS_SELECTOR, 'h2[data-testid=\"product-card::name\"]').get_attribute(\"textContent\").strip()\n",
    "            preco = card.find_element(By.CSS_SELECTOR, 'p[data-testid=\"product-card::price\"]').get_attribute(\"textContent\").strip() if card.find_elements(By.CSS_SELECTOR, 'p[data-testid=\"product-card::price\"]') else \"N/A\"\n",
    "            loja = card.find_element(By.CSS_SELECTOR, 'h3.ProductCard_ProductCard_BestMerchant__JQo_V').get_attribute(\"textContent\").strip() if card.find_elements(By.CSS_SELECTOR, 'h3.ProductCard_ProductCard_BestMerchant__JQo_V') else \"N/A\"\n",
    "\n",
    "            dados.append({\n",
    "                \"Página\": page,\n",
    "                \"Nome do Produto\": nome,\n",
    "                \"Preço\": preco,\n",
    "                \"Loja\": loja\n",
    "            })\n",
    "\n",
    "            total_itens += 1\n",
    "\n",
    "        except Exception as e:\n",
    "            falhas.append((page, i, str(e)))\n",
    "            continue\n",
    "\n",
    "    print(f\"✅ Página {page} finalizada.\")\n",
    "    sleep(random.uniform(3, 5))\n",
    "\n",
    "# Fecha o navegador\n",
    "driver.quit()\n",
    "\n",
    "# Cria o DataFrame\n",
    "df_resultados = pd.DataFrame(dados)\n",
    "print(f\"\\n✅ Raspagem finalizada. Total de itens extraídos: {total_itens}\")\n",
    "\n",
    "# Exibe falhas, se houver\n",
    "if falhas:\n",
    "    print(f\"\\n⚠️ Ocorreram {len(falhas)} falhas:\")\n",
    "    for page, i, erro in falhas:\n",
    "        print(f\"- Página {page}, Card {i}: {erro}\")"
   ]
  },
  {
   "cell_type": "code",
   "execution_count": null,
   "id": "a527bb70",
   "metadata": {},
   "outputs": [],
   "source": [
    "df_resultados.head()"
   ]
  },
  {
   "cell_type": "markdown",
   "id": "503be068",
   "metadata": {},
   "source": [
    "###  Tratamento dos dados com pandas"
   ]
  },
  {
   "cell_type": "code",
   "execution_count": null,
   "id": "e54e1475",
   "metadata": {},
   "outputs": [],
   "source": [
    "import re"
   ]
  },
  {
   "cell_type": "markdown",
   "id": "c72f3524",
   "metadata": {},
   "source": [
    "A biblioteca re em Python é usada para trabalhar com expressões regulares, que são padrões utilizados para buscar, extrair, substituir ou validar strings (textos).\n",
    "Ela é extremamente útil para lidar com textos que seguem formatos variáveis, como nomes de produtos, e-mails, datas, números, etc.\n",
    "\n",
    "**re.search()**\tBusca o padrão em qualquer parte da string."
   ]
  },
  {
   "cell_type": "code",
   "execution_count": null,
   "id": "0ac0ab9c",
   "metadata": {},
   "outputs": [],
   "source": [
    "# Criando uma cópia \n",
    "df1 = df_resultados.copy()"
   ]
  },
  {
   "cell_type": "code",
   "execution_count": null,
   "id": "71642c86",
   "metadata": {},
   "outputs": [],
   "source": [
    "# Renomeando colunas\n",
    "df1 = df1.rename(columns={\n",
    "\n",
    "    'Página':'pagina',\n",
    "    'Nome do Produto':'nome_produto',\n",
    "    'Preço':'preco',\n",
    "    'Loja':'loja',\n",
    "    \n",
    "    })\n",
    "\n",
    "df1.head()"
   ]
  },
  {
   "cell_type": "markdown",
   "id": "aa40907a",
   "metadata": {},
   "source": [
    "##### Tratando coluna nome_produto"
   ]
  },
  {
   "cell_type": "code",
   "execution_count": null,
   "id": "4205b81f",
   "metadata": {},
   "outputs": [],
   "source": [
    "exemplo = df1['nome_produto'].iloc[0]\n",
    "print(exemplo)"
   ]
  },
  {
   "cell_type": "code",
   "execution_count": null,
   "id": "388f84a8",
   "metadata": {},
   "outputs": [],
   "source": [
    "padrao = r'iPhone\\s+(\\d{2})\\s*(\\d+GB)?\\s*(\\d+\\s?GB)?'\n",
    "match = re.search(padrao, exemplo)\n",
    "\n",
    "print(\"numero:\", match.group(1))            # 15\n",
    "print(\"modelo:\", match.group(2))            # 128GB\n",
    "print(\"memoria_ram:\", match.group(3))       # 6 GB"
   ]
  },
  {
   "cell_type": "markdown",
   "id": "fb4ff628",
   "metadata": {},
   "source": [
    "Define um padrão de busca:\n",
    " \n",
    "- \\d representa um dígito (0 a 9);\n",
    " \n",
    "- \\s representa um espaço em branco (espaço, tabulação);\n",
    " \n",
    "- . representa qualquer caractere (exceto quebra de linha);\n",
    " \n",
    "- *, +, ? quantificadores (zero ou mais, um ou mais, zero ou um);\n",
    " \n",
    "- () captura grupos de padrões."
   ]
  },
  {
   "cell_type": "code",
   "execution_count": null,
   "id": "07f1ea11",
   "metadata": {},
   "outputs": [],
   "source": [
    "# Expressão regular para extrair as informações\n",
    "padrao = r'iPhone\\s+(\\d{2})\\s*([A-Za-z ]+)?\\s*(\\d+GB)?\\s*(\\d+\\s?GB)?'\n",
    "\n",
    "# Aplica a extração diretamente na coluna 'produto'\n",
    "df_extracao = df1['nome_produto'].str.extract(padrao)\n",
    "\n",
    "# Renomeia as colunas\n",
    "df_extracao.columns = ['numero', 'adicional', 'modelo', 'memoria_ram']\n",
    "\n",
    "# Preenche os valores ausentes com os padrões desejados\n",
    "df_extracao['numero'] = 'iPhone ' + df_extracao['numero'].fillna('')\n",
    "df_extracao['adicional'] = df_extracao['adicional'].fillna('').str.strip()\n",
    "df_extracao['modelo'] = df_extracao['modelo'].fillna('0').str.strip()\n",
    "df_extracao['memoria_ram'] = df_extracao['memoria_ram'].fillna('0 GB').str.strip()\n",
    "\n",
    "# Junta as novas colunas no dataframe original\n",
    "df1[['numero', 'adicional', 'modelo', 'memoria_ram']] = df_extracao\n",
    "df1.head(1)"
   ]
  },
  {
   "cell_type": "code",
   "execution_count": null,
   "id": "5f874821",
   "metadata": {},
   "outputs": [],
   "source": [
    "# Organizando dataframe\n",
    "df1 = df1[['loja', 'numero', 'modelo', 'memoria_ram', 'adicional', 'preco']]\n",
    "df1.head()"
   ]
  },
  {
   "cell_type": "markdown",
   "id": "ad6576a9",
   "metadata": {},
   "source": [
    "##### Tratando coluna loja"
   ]
  },
  {
   "cell_type": "code",
   "execution_count": null,
   "id": "9b6b0274",
   "metadata": {},
   "outputs": [],
   "source": [
    "# Criando uma cópia para não perder formatação\n",
    "df2 = df1.copy()"
   ]
  },
  {
   "cell_type": "code",
   "execution_count": null,
   "id": "7fb5cba5",
   "metadata": {},
   "outputs": [],
   "source": [
    "# Tratando a coluna 'loja' para manter apenas o nome da loja após \"via\"\n",
    "df2['loja'] = df2['loja'].str.extract(r'via\\s+(.+)$')[0].str.strip()"
   ]
  },
  {
   "cell_type": "markdown",
   "id": "d35a1b4b",
   "metadata": {},
   "source": [
    "str.extract() usa expressão regular para extrair parte do texto de cada linha da coluna loja.\n",
    "\n",
    "O padrão **r'via\\s+(.+)$'** significa:\n",
    "\n",
    "- **via** procura literalmente a palavra \"via\"\n",
    "\n",
    "- **\\s+** um ou mais espaços após \"via\"\n",
    "\n",
    "- **(.+)** captura (extrai) tudo que vier depois até o final da string ($)\n",
    "\n",
    "- **[0]** Seleciona a primeira (e única) coluna resultante da extração. Assim, voltamos a ter uma Series (uma coluna simples), compatível para ser atribuída de volta ao df1['loja']."
   ]
  },
  {
   "cell_type": "code",
   "execution_count": null,
   "id": "1f2e242c",
   "metadata": {},
   "outputs": [],
   "source": [
    "df2.head()"
   ]
  },
  {
   "cell_type": "markdown",
   "id": "6655d3e3",
   "metadata": {},
   "source": [
    "##### Tratando coluna preco"
   ]
  },
  {
   "cell_type": "code",
   "execution_count": null,
   "id": "b741ad85",
   "metadata": {},
   "outputs": [],
   "source": [
    "df3 = df2.copy()"
   ]
  },
  {
   "cell_type": "code",
   "execution_count": null,
   "id": "e052c98f",
   "metadata": {},
   "outputs": [],
   "source": [
    "# Removendo \"R$\" e espaços extras da coluna preco (usando raw string para evitar warning)\n",
    "df3['preco'] = df3['preco'].str.replace(r'R\\$\\s*', '', regex=True).str.strip()"
   ]
  },
  {
   "cell_type": "markdown",
   "id": "2ffa8369",
   "metadata": {},
   "source": [
    "str.replace(r'R\\$\\s*', '', regex=True)\n",
    "\n",
    "- **r'** é um raw string pattern, que evita que a barra invertida (\\) seja interpretada de forma errada pelo Python.\n",
    " \n",
    "- R\\$ busca o caractere literal \"R$\" (o cifrão precisa de \\ para extrair)\n",
    "\n",
    "- regex=True diz explicitamente ao pandas que o primeiro parâmetro é uma expressão regular (e não apenas uma string literal).\n",
    "\n",
    "- \\s* representa zero ou mais espaços em branco depois do \"R$\""
   ]
  },
  {
   "cell_type": "code",
   "execution_count": null,
   "id": "696f9fa9",
   "metadata": {},
   "outputs": [],
   "source": [
    "df3.head()"
   ]
  },
  {
   "cell_type": "markdown",
   "id": "b60ae7a5",
   "metadata": {},
   "source": [
    "##### Exportando base de dados"
   ]
  },
  {
   "cell_type": "code",
   "execution_count": null,
   "id": "d3ee5025",
   "metadata": {},
   "outputs": [],
   "source": [
    "path = r''\n",
    "\n",
    "df3.to_excel(path, index=False)"
   ]
  }
 ],
 "metadata": {
  "kernelspec": {
   "display_name": "venv",
   "language": "python",
   "name": "python3"
  },
  "language_info": {
   "codemirror_mode": {
    "name": "ipython",
    "version": 3
   },
   "file_extension": ".py",
   "mimetype": "text/x-python",
   "name": "python",
   "nbconvert_exporter": "python",
   "pygments_lexer": "ipython3",
   "version": "3.12.7"
  }
 },
 "nbformat": 4,
 "nbformat_minor": 5
}
